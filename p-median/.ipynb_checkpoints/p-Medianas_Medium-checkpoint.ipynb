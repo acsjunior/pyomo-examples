{
 "cells": [
  {
   "cell_type": "code",
   "execution_count": null,
   "metadata": {},
   "outputs": [],
   "source": [
    "import pyomo.environ as pyo\n",
    "import pandas as pd\n",
    "import matplotlib.pyplot as plt\n",
    "import seaborn as sns\n",
    "from sklearn.neighbors import DistanceMetric"
   ]
  },
  {
   "cell_type": "markdown",
   "metadata": {},
   "source": [
    "# Exemplo 1"
   ]
  },
  {
   "cell_type": "code",
   "execution_count": null,
   "metadata": {},
   "outputs": [],
   "source": [
    "df_dados = pd.read_csv(\"lojas_1.csv\", delimiter=\";\")\n",
    "df_dados"
   ]
  },
  {
   "cell_type": "code",
   "execution_count": null,
   "metadata": {},
   "outputs": [],
   "source": [
    "dist = DistanceMetric.get_metric('euclidean')\n",
    "dij = df_dados[['X', 'Y']].to_numpy()\n",
    "dij = dist.pairwise(dij)\n",
    "pd.DataFrame(dij)"
   ]
  },
  {
   "cell_type": "code",
   "execution_count": null,
   "metadata": {},
   "outputs": [],
   "source": [
    "plt.figure(figsize=(12, 6))\n",
    "plot = sns.scatterplot(data=df_dados, x=\"X\", y=\"Y\", s=100)\n",
    "for index, row in df_dados.iterrows():\n",
    "    plot.text(row['X']+3, row['Y'], index, horizontalalignment='left')"
   ]
  },
  {
   "cell_type": "markdown",
   "metadata": {},
   "source": [
    "## Modelo matemático exato\n",
    "\n",
    "<br>\n",
    "\n",
    "<b>Índices:</b>\n",
    "\n",
    "$i = 1,...,m$\n",
    "\n",
    "$j = 1,...,n$\n",
    "\n",
    "<br>\n",
    "\n",
    "<b>Parâmetros:</b>\n",
    "\n",
    "$d_{ij} = \\text{distância entre os pontos } i \\text{ e } j$\n",
    "\n",
    "$p = \\text{número de medianas}$\n",
    "\n",
    "<br>\n",
    "\n",
    "<b>Variáveis de decisão:</b>\n",
    "\n",
    "$\n",
    "    y_{j}=\n",
    "    \\begin{cases}\n",
    "      1, & \\text{se o ponto } j \\text{ é escolhido como mediana} \\\\\n",
    "      0, & \\text{caso contrário}\n",
    "    \\end{cases}\n",
    "$\n",
    "\n",
    "$\n",
    "    x_{ij}=\n",
    "    \\begin{cases}\n",
    "      1, & \\text{se o ponto } i \\text{ é alocado à mediana } j \\\\\n",
    "      0, & \\text{caso contrário}\n",
    "    \\end{cases}\n",
    "$\n",
    "\n",
    "####  Modelo de Programação Linear Inteira:\n",
    "\n",
    "$\\text{min }z = \\sum\\limits_{i=1}^{m} \\sum\\limits_{j=1}^{n} d_{ij} x_{ij}$\n",
    "\n",
    "sujeito a:\n",
    "\n",
    "$\\sum\\limits_{j=1}^{n} y_{j} = p$\n",
    "\n",
    "$\\sum\\limits_{j=1}^{n} x_{ij} = 1, \\forall \\; i$\n",
    "\n",
    "$x_{ij} \\leq y_j, \\forall \\; i,j$\n",
    "\n",
    "$y_j \\in \\{0,1\\}, \\forall \\; j$\n",
    "\n",
    "$x_{ij} \\in \\{0,1\\}, \\forall \\; i,j$"
   ]
  },
  {
   "cell_type": "code",
   "execution_count": null,
   "metadata": {},
   "outputs": [],
   "source": [
    "modelo = pyo.ConcreteModel()"
   ]
  },
  {
   "cell_type": "code",
   "execution_count": null,
   "metadata": {},
   "outputs": [],
   "source": [
    "# Índices:\n",
    "modelo.M = range(len(dij))\n",
    "modelo.N = range(len(dij))\n",
    "# Parâmetros\n",
    "modelo.d = pyo.Param(modelo.M, modelo.N, initialize=lambda modelo, i, j: dij[i][j])\n",
    "p = 3"
   ]
  },
  {
   "cell_type": "code",
   "execution_count": null,
   "metadata": {},
   "outputs": [],
   "source": [
    "modelo.y = pyo.Var(modelo.N, within=pyo.Binary)\n",
    "modelo.x = pyo.Var(modelo.M, modelo.N, within=pyo.Binary)"
   ]
  },
  {
   "cell_type": "code",
   "execution_count": null,
   "metadata": {},
   "outputs": [],
   "source": [
    "def f_obj(modelo):\n",
    "    return sum(modelo.x[i,j] * modelo.d[i,j] for i in modelo.M for j in modelo.N)\n",
    "\n",
    "modelo.objetivo = pyo.Objective(rule=f_obj, sense=pyo.minimize)"
   ]
  },
  {
   "cell_type": "code",
   "execution_count": null,
   "metadata": {},
   "outputs": [],
   "source": [
    "modelo.restricao_a = pyo.Constraint(expr=sum(modelo.y[j] for j in modelo.N) == p)"
   ]
  },
  {
   "cell_type": "code",
   "execution_count": null,
   "metadata": {},
   "outputs": [],
   "source": [
    "modelo.restricao_b = pyo.ConstraintList()\n",
    "for i in modelo.M:\n",
    "    modelo.restricao_b.add(sum(modelo.x[i,j] for j in modelo.N) == 1)"
   ]
  },
  {
   "cell_type": "code",
   "execution_count": null,
   "metadata": {},
   "outputs": [],
   "source": [
    "modelo.restricao_c = pyo.ConstraintList()\n",
    "for i in modelo.M:\n",
    "    for j in modelo.N:\n",
    "        modelo.restricao_c.add(modelo.x[i,j] <= modelo.y[j])"
   ]
  },
  {
   "cell_type": "code",
   "execution_count": null,
   "metadata": {},
   "outputs": [],
   "source": [
    "resultado = pyo.SolverFactory('glpk').solve(modelo)\n",
    "print(resultado)"
   ]
  },
  {
   "cell_type": "code",
   "execution_count": null,
   "metadata": {},
   "outputs": [],
   "source": [
    "modelo.y.pprint()"
   ]
  },
  {
   "cell_type": "code",
   "execution_count": null,
   "metadata": {},
   "outputs": [],
   "source": [
    "list_y = list(modelo.y.keys())\n",
    "[j for j in list_y if modelo.y[j]() == 1]"
   ]
  },
  {
   "cell_type": "code",
   "execution_count": null,
   "metadata": {},
   "outputs": [],
   "source": [
    "dados_modelo = df_dados.copy()\n",
    "dados_modelo['Mediana'] = [modelo.y[i]() for i in list_y]\n",
    "dados_modelo"
   ]
  },
  {
   "cell_type": "code",
   "execution_count": null,
   "metadata": {},
   "outputs": [],
   "source": [
    "modelo.x.pprint()"
   ]
  },
  {
   "cell_type": "code",
   "execution_count": null,
   "metadata": {},
   "outputs": [],
   "source": [
    "list_x = list(modelo.x.keys())\n",
    "alocacoes = [i for i in list_x if modelo.x[i]() == 1]\n",
    "alocacoes.sort(key=lambda x:x[0])\n",
    "alocacoes"
   ]
  },
  {
   "cell_type": "code",
   "execution_count": null,
   "metadata": {},
   "outputs": [],
   "source": [
    "medianas = [alocacao[1] for alocacao in alocacoes]\n",
    "dados_modelo['Alocacao'] = medianas\n",
    "dados_modelo"
   ]
  },
  {
   "cell_type": "code",
   "execution_count": null,
   "metadata": {},
   "outputs": [],
   "source": [
    "dados_modelo['Distancia'] = [dij[alocacao[0], alocacao[1]] for alocacao in alocacoes]\n",
    "dados_modelo"
   ]
  },
  {
   "cell_type": "code",
   "execution_count": null,
   "metadata": {},
   "outputs": [],
   "source": [
    "plt.figure(figsize=(12, 6))\n",
    "plot = sns.scatterplot(data=dados_modelo, \n",
    "                       x=\"X\", y=\"Y\", \n",
    "                       hue=\"Alocacao\", \n",
    "                       alpha=.7,\n",
    "                       s=100,\n",
    "                       palette=\"tab10\")\n",
    "highlights = dados_modelo[dados_modelo.index == dados_modelo.Alocacao]\n",
    "for index, row in highlights.iterrows():\n",
    "    plot.text(row['X']+3, row['Y'], row['Alocacao'], horizontalalignment='left')"
   ]
  },
  {
   "cell_type": "code",
   "execution_count": null,
   "metadata": {},
   "outputs": [],
   "source": [
    "dados_modelo_resumo = dados_modelo.copy()\n",
    "resumo = dados_modelo_resumo.groupby('Alocacao', as_index=False).agg({\"Distancia\": \"sum\"})\n",
    "resumo"
   ]
  },
  {
   "cell_type": "code",
   "execution_count": null,
   "metadata": {},
   "outputs": [],
   "source": [
    "resumo.Distancia.sum()"
   ]
  },
  {
   "cell_type": "markdown",
   "metadata": {},
   "source": [
    "# Exemplo 2"
   ]
  },
  {
   "cell_type": "code",
   "execution_count": null,
   "metadata": {},
   "outputs": [],
   "source": [
    "df_dados = pd.read_csv(\"lojas_2.csv\", delimiter=\";\")\n",
    "df_dados"
   ]
  },
  {
   "cell_type": "markdown",
   "metadata": {},
   "source": [
    "## Modelo matemático exato\n",
    "\n",
    "<br>\n",
    "\n",
    "<b>Índices:</b>\n",
    "\n",
    "$i = 1,...,m$\n",
    "\n",
    "$j = 1,...,n$\n",
    "\n",
    "<br>\n",
    "\n",
    "<b>Parâmetros:</b>\n",
    "\n",
    "$d_{ij} = \\text{distância entre os pontos } i \\text{ e } j$\n",
    "\n",
    "$p = \\text{número de medianas}$\n",
    "\n",
    "$C_i = \\text{número de clientes no ponto }i$\n",
    "\n",
    "$K_j = \\text{capacidade da instalação no ponto }j \\text{, caso seja escolhido como mediana}$\n",
    "\n",
    "<br>\n",
    "\n",
    "<b>Variáveis de decisão:</b>\n",
    "\n",
    "$\n",
    "    y_{j}=\n",
    "    \\begin{cases}\n",
    "      1, & \\text{se o ponto } j \\text{ é escolhido como mediana} \\\\\n",
    "      0, & \\text{caso contrário}\n",
    "    \\end{cases}\n",
    "$\n",
    "\n",
    "$\n",
    "    x_{ij}=\n",
    "    \\begin{cases}\n",
    "      1, & \\text{se o ponto } i \\text{ é alocado à mediana } j \\\\\n",
    "      0, & \\text{caso contrário}\n",
    "    \\end{cases}\n",
    "$\n",
    "\n",
    "####  Modelo de Programação Linear Inteira:\n",
    "\n",
    "$\\text{min }z = \\sum\\limits_{i=1}^{m} \\sum\\limits_{j=1}^{n} C_i d_{ij} x_{ij}$\n",
    "\n",
    "sujeito a:\n",
    "\n",
    "$\\sum\\limits_{j=1}^{n} y_{j} = p$\n",
    "\n",
    "$\\sum\\limits_{j=1}^{n} x_{ij} = 1, \\forall \\; i$\n",
    "\n",
    "$\\sum\\limits_{i=1}^{m} C_i x_{ij} \\leq K_j y_j, \\forall \\; j$\n",
    "\n",
    "$y_j \\in \\{0,1\\}, \\forall \\; j$\n",
    "\n",
    "$x_{ij} \\in \\{0,1\\}, \\forall \\; i,j$"
   ]
  },
  {
   "cell_type": "code",
   "execution_count": null,
   "metadata": {},
   "outputs": [],
   "source": [
    "# Declaração do modelo:\n",
    "modelo2 = pyo.ConcreteModel()\n",
    "\n",
    "# Matriz de distâncias:\n",
    "dist = DistanceMetric.get_metric('euclidean')\n",
    "dij = df_dados[['X', 'Y']].to_numpy()\n",
    "dij = dist.pairwise(dij)\n",
    "    \n",
    "# Índices:\n",
    "modelo2.M = range(len(dij))\n",
    "modelo2.N = range(len(dij))\n",
    "# Parâmetros:\n",
    "modelo2.d = pyo.Param(modelo2.M, modelo2.N, initialize=lambda modelo, i, j: dij[i][j])\n",
    "p = 3"
   ]
  },
  {
   "cell_type": "code",
   "execution_count": null,
   "metadata": {},
   "outputs": [],
   "source": [
    "# Vetores de demanda e capacidade\n",
    "Ci = list(df_dados.Demanda)\n",
    "Kj = list(df_dados.Capacidade)\n",
    "modelo2.C = pyo.Param(modelo2.M, initialize=lambda modelo2, i: Ci[i])\n",
    "modelo2.K = pyo.Param(modelo2.N, initialize=lambda modelo2, j: Kj[j])"
   ]
  },
  {
   "cell_type": "code",
   "execution_count": null,
   "metadata": {},
   "outputs": [],
   "source": [
    "# Variáveis de decisão:\n",
    "modelo2.y = pyo.Var(modelo2.N, within=pyo.Binary)\n",
    "modelo2.x = pyo.Var(modelo2.M, modelo2.N, within=pyo.Binary)\n",
    "\n",
    "# Função objetivo:\n",
    "def f_obj(modelo):\n",
    "    return sum(modelo.C[i] * modelo.x[i,j] * modelo.d[i,j] for i in modelo.M for j in modelo.N)\n",
    "\n",
    "modelo2.obj = pyo.Objective(rule=f_obj, sense=pyo.minimize)\n",
    "\n",
    "# Sujeito a:\n",
    "\n",
    "modelo2.restricao_a = pyo.Constraint(expr=sum(modelo2.y[j] for j in modelo2.N) == p)\n",
    "\n",
    "modelo2.restricao_b = pyo.ConstraintList()\n",
    "for i in modelo2.M:\n",
    "    modelo2.restricao_b.add(sum(modelo2.x[i,j] for j in modelo2.N) == 1.0)"
   ]
  },
  {
   "cell_type": "code",
   "execution_count": null,
   "metadata": {},
   "outputs": [],
   "source": [
    "modelo2.restricao_c = pyo.ConstraintList()\n",
    "for j in modelo2.N:\n",
    "    modelo2.restricao_c.add(sum(modelo2.C[i] * modelo2.x[i,j] for i in modelo2.M) <= modelo2.K[j] * modelo2.y[j])"
   ]
  },
  {
   "cell_type": "code",
   "execution_count": null,
   "metadata": {},
   "outputs": [],
   "source": [
    "resultado2 = pyo.SolverFactory('glpk').solve(modelo2)\n",
    "print(resultado2)"
   ]
  },
  {
   "cell_type": "code",
   "execution_count": null,
   "metadata": {},
   "outputs": [],
   "source": [
    "# Medianas\n",
    "list_y = list(modelo2.y.keys())\n",
    "dados_modelo2 = df_dados.copy()\n",
    "dados_modelo2['Mediana'] = [modelo2.y[i]() for i in list_y]\n",
    "\n",
    "# Alocações:\n",
    "list_x = list(modelo2.x.keys())\n",
    "alocacoes = [i for i in list_x if modelo2.x[i]() == 1]\n",
    "alocacoes.sort(key=lambda x:x[0])\n",
    "medianas = [alocacao[1] for alocacao in alocacoes]\n",
    "dados_modelo2['Alocacao'] = medianas\n",
    "\n",
    "# Distância\n",
    "dados_modelo2['Distancia'] = [dij[alocacao[0], alocacao[1]] for alocacao in alocacoes]\n",
    "\n",
    "dados_modelo2"
   ]
  },
  {
   "cell_type": "code",
   "execution_count": null,
   "metadata": {},
   "outputs": [],
   "source": [
    "dados_modelo2['Distancia_total'] = dados_modelo2['Distancia'] * dados_modelo2['Demanda']\n",
    "dados_modelo2"
   ]
  },
  {
   "cell_type": "code",
   "execution_count": null,
   "metadata": {},
   "outputs": [],
   "source": [
    "plt.figure(figsize=(12, 6))\n",
    "plot = sns.scatterplot(data=dados_modelo2, \n",
    "                       x=\"X\", y=\"Y\", \n",
    "                       hue=\"Alocacao\", \n",
    "                       size='Demanda',  \n",
    "                       sizes=(50, 250),\n",
    "                       alpha=.7,\n",
    "                       palette=\"tab10\")\n",
    "highlights = dados_modelo2[dados_modelo2.index == dados_modelo2.Alocacao]\n",
    "for index, row in highlights.iterrows():\n",
    "    plot.text(row['X']+3, row['Y'], row['Alocacao'], horizontalalignment='left')"
   ]
  },
  {
   "cell_type": "code",
   "execution_count": null,
   "metadata": {},
   "outputs": [],
   "source": [
    "dados_modelo2_resumo = dados_modelo2.copy()\n",
    "resumo2 = dados_modelo2_resumo.groupby('Alocacao', as_index=False).agg({\"Demanda\": \"sum\", \n",
    "                                                        \"Distancia\": \"sum\", \n",
    "                                                        \"Distancia_total\": \"sum\"})\n",
    "sum_dist2 = resumo2.Distancia.sum()\n",
    "sum_dist_total2 = resumo2.Distancia_total.sum()\n",
    "print(\"Distância:\", sum_dist2)\n",
    "print(\"Distância_total:\", sum_dist_total2)"
   ]
  },
  {
   "cell_type": "code",
   "execution_count": null,
   "metadata": {},
   "outputs": [],
   "source": [
    "resumo2"
   ]
  },
  {
   "cell_type": "markdown",
   "metadata": {},
   "source": [
    "# Exemplo 3"
   ]
  },
  {
   "cell_type": "code",
   "execution_count": null,
   "metadata": {},
   "outputs": [],
   "source": [
    "df_dados = pd.read_csv(\"lojas_3.csv\", delimiter=\";\")\n",
    "df_dados"
   ]
  },
  {
   "cell_type": "markdown",
   "metadata": {},
   "source": [
    "## Modelo matemático exato\n",
    "\n",
    "<br>\n",
    "\n",
    "<b>Índices:</b>\n",
    "\n",
    "$i = 1,...,m$\n",
    "\n",
    "$j = 1,...,n$\n",
    "\n",
    "<br>\n",
    "\n",
    "<b>Parâmetros:</b>\n",
    "\n",
    "$d_{ij} = \\text{distância entre os pontos } i \\text{ e } j$\n",
    "\n",
    "$C_i = \\text{número de clientes no ponto }i$\n",
    "\n",
    "$K_j = \\text{capacidade da instalação no ponto }j \\text{, caso seja escolhido como mediana}$\n",
    "\n",
    "$S_j = \\text{custo de construir a instalação no ponto }j \\text{ caso seja escolhido como mediana}$\n",
    "\n",
    "$B = \\text{orçamento disponível}$\n",
    "\n",
    "<br>\n",
    "\n",
    "<b>Variáveis de decisão:</b>\n",
    "\n",
    "$\n",
    "    y_{j}=\n",
    "    \\begin{cases}\n",
    "      1, & \\text{se o ponto } j \\text{ é escolhido como mediana} \\\\\n",
    "      0, & \\text{caso contrário}\n",
    "    \\end{cases}\n",
    "$\n",
    "\n",
    "$\n",
    "    x_{ij}=\n",
    "    \\begin{cases}\n",
    "      1, & \\text{se o ponto } i \\text{ é alocado à mediana } j \\\\\n",
    "      0, & \\text{caso contrário}\n",
    "    \\end{cases}\n",
    "$\n",
    "\n",
    "####  Modelo de Programação Linear Inteira:\n",
    "\n",
    "$\\text{min }z = \\sum\\limits_{i=1}^{m} \\sum\\limits_{j=1}^{n} C_i d_{ij} x_{ij}$\n",
    "\n",
    "sujeito a:\n",
    "\n",
    "$\\sum\\limits_{j=1}^{n} S_j y_j \\leq B$\n",
    "\n",
    "$\\sum\\limits_{j=1}^{n} x_{ij} = 1, \\forall \\; i$\n",
    "\n",
    "$\\sum\\limits_{i=1}^{m} C_i x_{ij} \\leq K_j y_j, \\forall \\; j$\n",
    "\n",
    "$y_j \\in \\{0,1\\}, \\forall \\; j$\n",
    "\n",
    "$x_{ij} \\in \\{0,1\\}, \\forall \\; i,j$"
   ]
  },
  {
   "cell_type": "code",
   "execution_count": null,
   "metadata": {},
   "outputs": [],
   "source": [
    "# Declaração do modelo:\n",
    "modelo3 = pyo.ConcreteModel()\n",
    "\n",
    "# Matriz de distâncias:\n",
    "dist = DistanceMetric.get_metric('euclidean')\n",
    "dij = df_dados[['X', 'Y']].to_numpy()\n",
    "dij = dist.pairwise(dij)\n",
    "    \n",
    "# Índices:\n",
    "modelo3.M = range(len(dij))\n",
    "modelo3.N = range(len(dij))\n",
    "\n",
    "# Parâmetros:\n",
    "\n",
    "# Vetores de demanda e capacidade\n",
    "Ci = list(df_dados.Demanda)\n",
    "Kj = list(df_dados.Capacidade)\n",
    "\n",
    "modelo3.d = pyo.Param(modelo3.M, modelo3.N, initialize=lambda modelo, i, j: dij[i][j])\n",
    "modelo3.C = pyo.Param(modelo3.M, initialize=lambda modelo3, i: Ci[i])\n",
    "modelo3.K = pyo.Param(modelo3.N, initialize=lambda modelo3, j: Kj[j])"
   ]
  },
  {
   "cell_type": "code",
   "execution_count": null,
   "metadata": {},
   "outputs": [],
   "source": [
    "# Vetor de custos:\n",
    "Sj = list(df_dados.Custo)\n",
    "\n",
    "modelo3.S = pyo.Param(modelo3.N, initialize=lambda modelo, j: Sj[j])\n",
    "B = 70000"
   ]
  },
  {
   "cell_type": "code",
   "execution_count": null,
   "metadata": {},
   "outputs": [],
   "source": [
    "# Variáveis de decisão:\n",
    "modelo3.y = pyo.Var(modelo3.N, within=pyo.Binary)\n",
    "modelo3.x = pyo.Var(modelo3.M, modelo3.N, within=pyo.Binary)\n",
    "\n",
    "# Função objetivo:\n",
    "def f_obj(modelo):\n",
    "    return sum(modelo.C[i] * modelo.x[i,j] * modelo.d[i,j] for i in modelo.M for j in modelo.N)\n",
    "\n",
    "modelo3.obj = pyo.Objective(rule=f_obj, sense=pyo.minimize)\n",
    "\n",
    "# Sujeito a:\n",
    "\n",
    "modelo3.restricao_b = pyo.ConstraintList()\n",
    "for i in modelo3.M:\n",
    "    modelo3.restricao_b.add(sum(modelo3.x[i,j] for j in modelo3.N) == 1.0)\n",
    "    \n",
    "modelo3.restricao_c = pyo.ConstraintList()\n",
    "for j in modelo3.N:\n",
    "    modelo3.restricao_c.add(sum(modelo3.C[i] * modelo3.x[i,j] for i in modelo3.M) <= modelo3.K[j] * modelo3.y[j])"
   ]
  },
  {
   "cell_type": "code",
   "execution_count": null,
   "metadata": {},
   "outputs": [],
   "source": [
    "modelo3.restricao_a = pyo.Constraint(expr=sum(modelo3.S[j] * modelo3.y[j] for j in modelo3.N) <= B)"
   ]
  },
  {
   "cell_type": "code",
   "execution_count": null,
   "metadata": {},
   "outputs": [],
   "source": [
    "resultado3 = pyo.SolverFactory('glpk').solve(modelo3)\n",
    "print(resultado3)"
   ]
  },
  {
   "cell_type": "code",
   "execution_count": null,
   "metadata": {},
   "outputs": [],
   "source": [
    "# Medianas\n",
    "list_y = list(modelo3.y.keys())\n",
    "dados_modelo3 = df_dados.copy()\n",
    "dados_modelo3['Mediana'] = [modelo3.y[i]() for i in list_y]\n",
    "\n",
    "# Alocações:\n",
    "list_x = list(modelo3.x.keys())\n",
    "alocacoes = [i for i in list_x if modelo3.x[i]() == 1]\n",
    "alocacoes.sort(key=lambda x:x[0])\n",
    "medianas = [alocacao[1] for alocacao in alocacoes]\n",
    "dados_modelo3['Alocacao'] = medianas\n",
    "\n",
    "# Distâncias\n",
    "dados_modelo3['Distancia'] = [dij[alocacao[0], alocacao[1]] for alocacao in alocacoes]\n",
    "dados_modelo3['Distancia_total'] = dados_modelo3['Distancia'] * dados_modelo3['Demanda']\n",
    "\n",
    "dados_modelo3"
   ]
  },
  {
   "cell_type": "code",
   "execution_count": null,
   "metadata": {},
   "outputs": [],
   "source": [
    "plt.figure(figsize=(12, 6))\n",
    "plot = sns.scatterplot(data=dados_modelo3, \n",
    "                       x=\"X\", y=\"Y\", \n",
    "                       hue=\"Alocacao\", \n",
    "                       size='Demanda',  \n",
    "                       sizes=(50, 250),\n",
    "                       alpha=.7,\n",
    "                       palette=\"tab10\")\n",
    "highlights = dados_modelo3[dados_modelo3.index == dados_modelo3.Alocacao]\n",
    "for index, row in highlights.iterrows():\n",
    "    plot.text(row['X']+3, row['Y'], row['Alocacao'], horizontalalignment='left') "
   ]
  },
  {
   "cell_type": "code",
   "execution_count": null,
   "metadata": {},
   "outputs": [],
   "source": [
    "dados_modelo3_resumo = dados_modelo3.copy()\n",
    "dados_modelo3_resumo['Custo'] = dados_modelo3_resumo['Custo'] * dados_modelo3_resumo['Mediana']\n",
    "resumo3 = dados_modelo3_resumo.groupby('Alocacao', as_index=False).agg({\"Demanda\": \"sum\", \n",
    "                                                        \"Distancia\": \"sum\", \n",
    "                                                        \"Distancia_total\": \"sum\",\n",
    "                                                        \"Custo\": \"sum\"})\n",
    "sum_dist3 = resumo3.Distancia.sum()\n",
    "sum_dist_total3 = resumo3.Distancia_total.sum()\n",
    "sum_custo3 = resumo3.Custo.sum()\n",
    "print(\"Distância:\", sum_dist3)\n",
    "print(\"Distância_total:\", sum_dist_total3)\n",
    "print(\"Custo:\", sum_custo3)"
   ]
  },
  {
   "cell_type": "code",
   "execution_count": null,
   "metadata": {
    "scrolled": true
   },
   "outputs": [],
   "source": [
    "resumo3"
   ]
  },
  {
   "cell_type": "markdown",
   "metadata": {},
   "source": [
    "# Exemplo 4"
   ]
  },
  {
   "cell_type": "code",
   "execution_count": null,
   "metadata": {},
   "outputs": [],
   "source": [
    "df_dados = pd.read_csv(\"lojas_3.csv\", delimiter=\";\")\n",
    "df_dados"
   ]
  },
  {
   "cell_type": "markdown",
   "metadata": {},
   "source": [
    "## Modelo matemático exato\n",
    "\n",
    "<br>\n",
    "\n",
    "<b>Índices:</b>\n",
    "\n",
    "$i = 1,...,m$\n",
    "\n",
    "$j = 1,...,n$\n",
    "\n",
    "<br>\n",
    "\n",
    "<b>Parâmetros:</b>\n",
    "\n",
    "$d_{ij} = \\text{distância entre os pontos } i \\text{ e } j$\n",
    "\n",
    "$C_i = \\text{número de clientes no ponto }i$\n",
    "\n",
    "$K_j = \\text{capacidade da instalação no ponto }j \\text{, caso seja escolhido como mediana}$\n",
    "\n",
    "$S_j = \\text{custo de construir a instalação no ponto }j \\text{ caso seja escolhido como mediana}$\n",
    "\n",
    "$B = \\text{orçamento disponível}$\n",
    "\n",
    "$T = \\text{grupo de instalações concorrentes}$\n",
    "\n",
    "<br>\n",
    "\n",
    "<b>Variáveis de decisão:</b>\n",
    "\n",
    "$\n",
    "    y_{j}=\n",
    "    \\begin{cases}\n",
    "      1, & \\text{se o ponto } j \\text{ é escolhido como mediana} \\\\\n",
    "      0, & \\text{caso contrário}\n",
    "    \\end{cases}\n",
    "$\n",
    "\n",
    "$\n",
    "    x_{ij}=\n",
    "    \\begin{cases}\n",
    "      1, & \\text{se o ponto } i \\text{ é alocado à mediana } j \\\\\n",
    "      0, & \\text{caso contrário}\n",
    "    \\end{cases}\n",
    "$\n",
    "\n",
    "####  Modelo de Programação Linear Inteira:\n",
    "\n",
    "$\\text{min }z = \\sum\\limits_{i=1}^{m} \\sum\\limits_{j=1}^{n} C_i d_{ij} x_{ij}$\n",
    "\n",
    "sujeito a:\n",
    "\n",
    "$\\sum\\limits_{j=1}^{n} S_j y_j \\leq B$\n",
    "\n",
    "$\\sum\\limits_{j=1}^{n} x_{ij} = 1, \\forall \\; i$\n",
    "\n",
    "$\\sum\\limits_{i=1}^{m} C_i x_{ij} \\leq K_j y_j, \\forall \\; j$\n",
    "\n",
    "$\\sum\\limits_{j \\in T} y_{j} \\leq 1$\n",
    "\n",
    "$y_j \\in \\{0,1\\}, \\forall \\; j$\n",
    "\n",
    "$x_{ij} \\in \\{0,1\\}, \\forall \\; i,j$"
   ]
  },
  {
   "cell_type": "code",
   "execution_count": null,
   "metadata": {},
   "outputs": [],
   "source": [
    "# Declaração do modelo:\n",
    "modelo4 = pyo.ConcreteModel()\n",
    "\n",
    "# Matriz de distâncias:\n",
    "dist = DistanceMetric.get_metric('euclidean')\n",
    "dij = df_dados[['X', 'Y']].to_numpy()\n",
    "dij = dist.pairwise(dij)\n",
    "    \n",
    "# Índices:\n",
    "modelo4.M = range(len(dij))\n",
    "modelo4.N = range(len(dij))\n",
    "\n",
    "# Parâmetros:\n",
    "\n",
    "# Vetores de demanda, capacidade e custo\n",
    "Ci = list(df_dados.Demanda)\n",
    "Kj = list(df_dados.Capacidade)\n",
    "Sj = list(df_dados.Custo)\n",
    "\n",
    "modelo4.d = pyo.Param(modelo4.M, modelo4.N, initialize=lambda modelo, i, j: dij[i][j])\n",
    "modelo4.C = pyo.Param(modelo4.M, initialize=lambda modelo4, i: Ci[i])\n",
    "modelo4.K = pyo.Param(modelo4.N, initialize=lambda modelo4, j: Kj[j])\n",
    "modelo4.S = pyo.Param(modelo4.N, initialize=lambda modelo4, j: Sj[j])\n",
    "B = 70000\n",
    "T = [3,5,7]"
   ]
  },
  {
   "cell_type": "code",
   "execution_count": null,
   "metadata": {},
   "outputs": [],
   "source": [
    "# Variáveis de decisão:\n",
    "modelo4.y = pyo.Var(modelo4.N, within=pyo.Binary)\n",
    "modelo4.x = pyo.Var(modelo4.M, modelo4.N, within=pyo.Binary)\n",
    "\n",
    "# Função objetivo:\n",
    "def f_obj(modelo):\n",
    "    return sum(modelo.C[i] * modelo.x[i,j] * modelo.d[i,j] for i in modelo.M for j in modelo.N)\n",
    "\n",
    "modelo4.obj = pyo.Objective(rule=f_obj, sense=pyo.minimize)\n",
    "\n",
    "# Sujeito a:\n",
    "\n",
    "modelo4.restricao_a = pyo.Constraint(expr=sum(modelo4.S[j] * modelo4.y[j] for j in modelo4.N) <= B)\n",
    "\n",
    "modelo4.restricao_b = pyo.ConstraintList()\n",
    "for i in modelo4.M:\n",
    "    modelo4.restricao_b.add(sum(modelo4.x[i,j] for j in modelo4.N) == 1.0)\n",
    "    \n",
    "modelo4.restricao_c = pyo.ConstraintList()\n",
    "for j in modelo4.N:\n",
    "    modelo4.restricao_c.add(sum(modelo4.C[i] * modelo4.x[i,j] for i in modelo4.M) <= modelo4.K[j] * modelo4.y[j])"
   ]
  },
  {
   "cell_type": "code",
   "execution_count": null,
   "metadata": {},
   "outputs": [],
   "source": [
    "modelo4.restricao_d = pyo.Constraint(expr=sum(modelo4.y[j] for j in modelo4.N if j in T) <= 1)"
   ]
  },
  {
   "cell_type": "code",
   "execution_count": null,
   "metadata": {},
   "outputs": [],
   "source": [
    "resultado4 = pyo.SolverFactory('glpk').solve(modelo4)\n",
    "print(resultado4)"
   ]
  },
  {
   "cell_type": "code",
   "execution_count": null,
   "metadata": {},
   "outputs": [],
   "source": [
    "# Medianas\n",
    "list_y = list(modelo4.y.keys())\n",
    "dados_modelo4 = df_dados.copy()\n",
    "dados_modelo4['Mediana'] = [modelo4.y[i]() for i in list_y]\n",
    "\n",
    "# Alocações:\n",
    "list_x = list(modelo4.x.keys())\n",
    "alocacoes = [i for i in list_x if modelo4.x[i]() == 1]\n",
    "alocacoes.sort(key=lambda x:x[0])\n",
    "medianas = [alocacao[1] for alocacao in alocacoes]\n",
    "dados_modelo4['Alocacao'] = medianas\n",
    "\n",
    "# Distâncias\n",
    "dados_modelo4['Distancia'] = [dij[alocacao[0], alocacao[1]] for alocacao in alocacoes]\n",
    "dados_modelo4['Distancia_total'] = dados_modelo4['Distancia'] * dados_modelo4['Demanda']\n",
    "\n",
    "dados_modelo4"
   ]
  },
  {
   "cell_type": "code",
   "execution_count": null,
   "metadata": {},
   "outputs": [],
   "source": [
    "plt.figure(figsize=(12, 6))\n",
    "plot = sns.scatterplot(data=dados_modelo4, \n",
    "                       x=\"X\", y=\"Y\", \n",
    "                       hue=\"Alocacao\", \n",
    "                       size='Demanda',  \n",
    "                       sizes=(50, 250),\n",
    "                       alpha=.7,\n",
    "                       palette=\"tab10\")\n",
    "highlights = dados_modelo4[dados_modelo4.index == dados_modelo4.Alocacao]\n",
    "for index, row in highlights.iterrows():\n",
    "    plot.text(row['X']+3, row['Y'], row['Alocacao'], horizontalalignment='left') "
   ]
  },
  {
   "cell_type": "code",
   "execution_count": null,
   "metadata": {},
   "outputs": [],
   "source": [
    "dados_modelo4_resumo = dados_modelo4.copy()\n",
    "dados_modelo4_resumo['Custo'] = dados_modelo4_resumo['Custo'] * dados_modelo4_resumo['Mediana']\n",
    "resumo4 = dados_modelo4_resumo.groupby('Alocacao', as_index=False).agg({\"Demanda\": \"sum\", \n",
    "                                                        \"Distancia\": \"sum\", \n",
    "                                                        \"Distancia_total\": \"sum\",\n",
    "                                                        \"Custo\": \"sum\"})\n",
    "sum_dist4 = resumo4.Distancia.sum()\n",
    "sum_dist_total4 = resumo4.Distancia_total.sum()\n",
    "sum_custo4 = resumo4.Custo.sum()\n",
    "print(\"Distância:\", sum_dist4)\n",
    "print(\"Distância_total:\", sum_dist_total4)\n",
    "print(\"Custo:\", sum_custo4)"
   ]
  },
  {
   "cell_type": "code",
   "execution_count": null,
   "metadata": {},
   "outputs": [],
   "source": []
  }
 ],
 "metadata": {
  "kernelspec": {
   "display_name": "Python 3",
   "language": "python",
   "name": "python3"
  },
  "language_info": {
   "codemirror_mode": {
    "name": "ipython",
    "version": 3
   },
   "file_extension": ".py",
   "mimetype": "text/x-python",
   "name": "python",
   "nbconvert_exporter": "python",
   "pygments_lexer": "ipython3",
   "version": "3.7.9"
  }
 },
 "nbformat": 4,
 "nbformat_minor": 4
}
