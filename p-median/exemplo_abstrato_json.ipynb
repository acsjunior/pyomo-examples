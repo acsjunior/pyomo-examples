{
 "cells": [
  {
   "cell_type": "markdown",
   "metadata": {},
   "source": [
    "# Modelo genérico\n",
    "\n",
    "\n",
    "\n",
    "## Índices / Conjuntos\n",
    "\n",
    "$I \\colon \\{1,\\ldots, m\\}$\n",
    "\n",
    "$J \\colon \\{1,\\ldots, n\\}$\n",
    "\n",
    "## Parâmetros\n",
    "\n",
    "$d_{ij} \\colon  \\text{distância do ponto } i \\in I \\text{ até o ponto } j \\in J$\n",
    "\n",
    "$p = \\text{número de medianas}$\n",
    "\n",
    "\n",
    "## Variáveis de decisão\n",
    "\n",
    "$\n",
    "    y_{j}=\n",
    "    \\begin{cases}\n",
    "      1, & \\text{se o ponto } j \\in J \\text{ é escolhido como mediana} \\\\\n",
    "      0, & \\text{caso contrário}\n",
    "    \\end{cases}\n",
    "$\n",
    "\n",
    "$\n",
    "    x_{ij}=\n",
    "    \\begin{cases}\n",
    "      1, & \\text{se o ponto } i \\in I \\text{ é alocado à mediana } j \\in J \\\\\n",
    "      0, & \\text{caso contrário}\n",
    "    \\end{cases}\n",
    "$\n",
    "\n",
    "## Formulação matemática\n",
    "\n",
    "$\\text{min }z = \\sum\\limits_{i \\in I} \\sum\\limits_{j \\in J} d_{ij} x_{ij}$\n",
    "\n",
    "sujeito a\n",
    "\n",
    "$\\sum\\limits_{j \\in J} y_{j} = p$\n",
    "\n",
    "$\\sum\\limits_{j \\in J} x_{ij} = 1, \\;\\; \\forall i \\in I$\n",
    "\n",
    "$x_{ij} \\leq y_j, \\;\\; \\forall i \\in I,j \\in J$\n",
    "\n",
    "$y_j \\in \\{0,1\\}, \\;\\; \\forall \\; j \\in J$\n",
    "\n",
    "$x_{ij} \\in \\{0,1\\}, \\;\\; \\forall i \\in I, j \\in J$"
   ]
  },
  {
   "cell_type": "code",
   "execution_count": null,
   "metadata": {},
   "outputs": [],
   "source": [
    "# Carrega as bibliotecas necessárias:\n",
    "\n",
    "import pyomo.environ as pyo\n",
    "import pandas as pd"
   ]
  },
  {
   "cell_type": "code",
   "execution_count": null,
   "metadata": {},
   "outputs": [],
   "source": [
    "# Declara o modelo computacional:\n",
    "\n",
    "modelo = pyo.AbstractModel()\n",
    "\n",
    "# Parâmetros auxiliares:\n",
    "modelo.m = pyo.Param()\n",
    "modelo.n = pyo.Param()\n",
    "modelo.distancias = pyo.Param(within=pyo.Any)\n",
    "\n",
    "# Índices:\n",
    "modelo.I = pyo.RangeSet(modelo.m)\n",
    "modelo.J = pyo.RangeSet(modelo.n)\n",
    "\n",
    "# Parâmetros:\n",
    "modelo.d = pyo.Param(modelo.I, modelo.J, initialize=lambda modelo, i, j: modelo.distancias()[i-1][j-1])\n",
    "modelo.p = pyo.Param()\n",
    "\n",
    "# Variáveis de decisão:\n",
    "modelo.y = pyo.Var(modelo.J, within=pyo.Binary)\n",
    "modelo.x = pyo.Var(modelo.I, modelo.J, within=pyo.Binary)\n",
    "\n",
    "# Função objetivo:\n",
    "def f_obj(modelo):\n",
    "    return sum(modelo.x[i,j] * modelo.d[i,j] for i in modelo.I for j in modelo.J)\n",
    "modelo.z = pyo.Objective(rule=f_obj, sense=pyo.minimize)\n",
    "\n",
    "# Restrições:\n",
    "\n",
    "def f_restr1(modelo, j):\n",
    "    return sum(modelo.y[j] for j in modelo.J) == modelo.p()\n",
    "modelo.restr_1 = pyo.Constraint(modelo.J, rule=f_restr1)\n",
    "\n",
    "def f_restr2(modelo, i):\n",
    "    return sum(modelo.x[i,j] for j in modelo.J) == 1\n",
    "modelo.restr_2 = pyo.Constraint(modelo.I, rule=f_restr2)\n",
    "\n",
    "def f_restr3(modelo, i, j):\n",
    "    return modelo.x[i,j] <= modelo.y[j]\n",
    "modelo.restr_3 = pyo.Constraint(modelo.I, modelo.J, rule=f_restr3)"
   ]
  },
  {
   "cell_type": "code",
   "execution_count": null,
   "metadata": {},
   "outputs": [],
   "source": [
    "# Lê os dados de entrada:\n",
    "\n",
    "dados_entrada = pyo.DataPortal()\n",
    "dados_entrada.load(filename='dados_entrada.json')"
   ]
  },
  {
   "cell_type": "code",
   "execution_count": null,
   "metadata": {},
   "outputs": [],
   "source": [
    "# Cria a instância:\n",
    "\n",
    "instancia = modelo.create_instance(dados_entrada)"
   ]
  },
  {
   "cell_type": "code",
   "execution_count": null,
   "metadata": {
    "scrolled": false
   },
   "outputs": [],
   "source": [
    "instancia.pprint()"
   ]
  },
  {
   "cell_type": "code",
   "execution_count": null,
   "metadata": {},
   "outputs": [],
   "source": [
    "# Resolve a instância:\n",
    "\n",
    "resultado = pyo.SolverFactory('glpk').solve(instancia)\n",
    "print(resultado)"
   ]
  },
  {
   "cell_type": "code",
   "execution_count": null,
   "metadata": {},
   "outputs": [],
   "source": [
    "instancia.y.pprint()"
   ]
  },
  {
   "cell_type": "code",
   "execution_count": null,
   "metadata": {},
   "outputs": [],
   "source": [
    "instancia.x.pprint()"
   ]
  }
 ],
 "metadata": {
  "kernelspec": {
   "display_name": "Python 3",
   "language": "python",
   "name": "python3"
  },
  "language_info": {
   "codemirror_mode": {
    "name": "ipython",
    "version": 3
   },
   "file_extension": ".py",
   "mimetype": "text/x-python",
   "name": "python",
   "nbconvert_exporter": "python",
   "pygments_lexer": "ipython3",
   "version": "3.8.5"
  }
 },
 "nbformat": 4,
 "nbformat_minor": 4
}
