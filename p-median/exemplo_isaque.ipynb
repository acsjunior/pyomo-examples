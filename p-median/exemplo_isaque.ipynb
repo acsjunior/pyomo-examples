{
 "cells": [
  {
   "cell_type": "markdown",
   "metadata": {},
   "source": [
    "## Modelo matemático exato\n",
    "\n",
    "<br>\n",
    "\n",
    "<b>Índices:</b>\n",
    "\n",
    "$i = 1,...,m$\n",
    "\n",
    "$j = 1,...,n$\n",
    "\n",
    "<br>\n",
    "\n",
    "<b>Parâmetros:</b>\n",
    "\n",
    "$d_{ij} = \\text{distância entre os pontos } i \\text{ e } j$\n",
    "\n",
    "$c_i = \\text{número de estudantes no ponto }i$\n",
    "\n",
    "$p = \\text{número de medianas}$\n",
    "\n",
    "<br>\n",
    "\n",
    "<b>Variáveis de decisão:</b>\n",
    "\n",
    "$\n",
    "    y_{j}=\n",
    "    \\begin{cases}\n",
    "      1, & \\text{se o ponto } j \\text{ é escolhido como mediana} \\\\\n",
    "      0, & \\text{caso contrário}\n",
    "    \\end{cases}\n",
    "$\n",
    "\n",
    "$\n",
    "    x_{ij}=\n",
    "    \\begin{cases}\n",
    "      1, & \\text{se o ponto } i \\text{ é alocado à mediana } j \\\\\n",
    "      0, & \\text{caso contrário}\n",
    "    \\end{cases}\n",
    "$\n",
    "\n",
    "####  Modelo de Programação Linear Inteira:\n",
    "\n",
    "$\\text{min }z = \\sum\\limits_{i=1}^{m} \\sum\\limits_{j=1}^{n} c_i d_{ij} x_{ij}$\n",
    "\n",
    "sujeito a:\n",
    "\n",
    "$\\sum\\limits_{j=1}^{n} y_{j} = p$\n",
    "\n",
    "$\\sum\\limits_{j=1}^{n} x_{ij} = 1, \\forall \\; i$\n",
    "\n",
    "$x_{ij} \\leq y_j, \\forall \\; i,j$\n",
    "\n",
    "$y_j \\in \\{0,1\\}, \\forall \\; j$\n",
    "\n",
    "$x_{ij} \\in \\{0,1\\}, \\forall \\; i,j$"
   ]
  },
  {
   "cell_type": "code",
   "execution_count": 1,
   "metadata": {},
   "outputs": [],
   "source": [
    "# Carrega as bibliotecas necessárias:\n",
    "\n",
    "import pyomo.environ as pyo\n",
    "import pandas as pd"
   ]
  },
  {
   "cell_type": "code",
   "execution_count": 2,
   "metadata": {},
   "outputs": [],
   "source": [
    "# Declara o modelo computacional:\n",
    "\n",
    "modelo = pyo.AbstractModel()\n",
    "\n",
    "# Parâmetros auxiliares:\n",
    "modelo.distritos = pyo.Param()\n",
    "modelo.terrenos = pyo.Param()\n",
    "modelo.estudantes = pyo.Param(within=pyo.Any)\n",
    "modelo.distancias = pyo.Param(within=pyo.Any)\n",
    "\n",
    "# Índices:\n",
    "modelo.I = pyo.RangeSet(modelo.distritos)\n",
    "modelo.J = pyo.RangeSet(modelo.terrenos)\n",
    "\n",
    "# Parâmetros:\n",
    "modelo.d = pyo.Param(modelo.I, modelo.J, initialize=lambda modelo, i, j: modelo.distancias()[i-1][j-1])\n",
    "modelo.c = pyo.Param(modelo.I, initialize=lambda modelo, i: modelo.estudantes()[i-1])\n",
    "modelo.p = pyo.Param()\n",
    "\n",
    "# Variáveis de decisão:\n",
    "modelo.y = pyo.Var(modelo.J, within=pyo.Binary)\n",
    "modelo.x = pyo.Var(modelo.I, modelo.J, within=pyo.Binary)\n",
    "\n",
    "# Função objetivo:\n",
    "def f_obj(modelo):\n",
    "    return sum(modelo.x[i,j] * modelo.d[i,j] * modelo.c[i] for i in modelo.I for j in modelo.J)\n",
    "modelo.z = pyo.Objective(rule=f_obj, sense=pyo.minimize)\n",
    "\n",
    "# Restrições:\n",
    "\n",
    "def f_restr1(modelo, j):\n",
    "    return sum(modelo.y[j] for j in modelo.J) == modelo.p()\n",
    "modelo.restr_1 = pyo.Constraint(modelo.J, rule=f_restr1)\n",
    "\n",
    "def f_restr2(modelo, i):\n",
    "    return sum(modelo.x[i,j] for j in modelo.J) == 1\n",
    "modelo.restr_2 = pyo.Constraint(modelo.I, rule=f_restr2)\n",
    "\n",
    "def f_restr3(modelo, i, j):\n",
    "    return modelo.x[i,j] <= modelo.y[j]\n",
    "modelo.restr_3 = pyo.Constraint(modelo.I, modelo.J, rule=f_restr3)"
   ]
  },
  {
   "cell_type": "code",
   "execution_count": 3,
   "metadata": {},
   "outputs": [],
   "source": [
    "# Lê os dados de entrada:\n",
    "\n",
    "dados_entrada = pyo.DataPortal()\n",
    "dados_entrada.load(filename='instancia1.json')"
   ]
  },
  {
   "cell_type": "code",
   "execution_count": 4,
   "metadata": {
    "scrolled": false
   },
   "outputs": [],
   "source": [
    "# Cria a instância:\n",
    "\n",
    "instancia = modelo.create_instance(dados_entrada)"
   ]
  },
  {
   "cell_type": "code",
   "execution_count": 5,
   "metadata": {},
   "outputs": [
    {
     "name": "stdout",
     "output_type": "stream",
     "text": [
      "\n",
      "Problem: \n",
      "- Name: unknown\n",
      "  Lower bound: 6830.0\n",
      "  Upper bound: 6830.0\n",
      "  Number of objectives: 1\n",
      "  Number of constraints: 35\n",
      "  Number of variables: 29\n",
      "  Number of nonzeros: 89\n",
      "  Sense: minimize\n",
      "Solver: \n",
      "- Status: ok\n",
      "  Termination condition: optimal\n",
      "  Statistics: \n",
      "    Branch and bound: \n",
      "      Number of bounded subproblems: 1\n",
      "      Number of created subproblems: 1\n",
      "  Error rc: 0\n",
      "  Time: 0.038720130920410156\n",
      "Solution: \n",
      "- number of solutions: 0\n",
      "  number of solutions displayed: 0\n",
      "\n"
     ]
    }
   ],
   "source": [
    "# Resolve a instância:\n",
    "\n",
    "resultado = pyo.SolverFactory('glpk').solve(instancia)\n",
    "print(resultado)"
   ]
  },
  {
   "cell_type": "code",
   "execution_count": 6,
   "metadata": {
    "scrolled": true
   },
   "outputs": [
    {
     "name": "stdout",
     "output_type": "stream",
     "text": [
      "y : Size=4, Index=J\n",
      "    Key : Lower : Value : Upper : Fixed : Stale : Domain\n",
      "      1 :     0 :   1.0 :     1 : False : False : Binary\n",
      "      2 :     0 :   1.0 :     1 : False : False : Binary\n",
      "      3 :     0 :   0.0 :     1 : False : False : Binary\n",
      "      4 :     0 :   0.0 :     1 : False : False : Binary\n"
     ]
    }
   ],
   "source": [
    "instancia.y.pprint()"
   ]
  },
  {
   "cell_type": "code",
   "execution_count": 7,
   "metadata": {},
   "outputs": [
    {
     "name": "stdout",
     "output_type": "stream",
     "text": [
      "x : Size=24, Index=x_index\n",
      "    Key    : Lower : Value : Upper : Fixed : Stale : Domain\n",
      "    (1, 1) :     0 :   1.0 :     1 : False : False : Binary\n",
      "    (1, 2) :     0 :   0.0 :     1 : False : False : Binary\n",
      "    (1, 3) :     0 :   0.0 :     1 : False : False : Binary\n",
      "    (1, 4) :     0 :   0.0 :     1 : False : False : Binary\n",
      "    (2, 1) :     0 :   0.0 :     1 : False : False : Binary\n",
      "    (2, 2) :     0 :   1.0 :     1 : False : False : Binary\n",
      "    (2, 3) :     0 :   0.0 :     1 : False : False : Binary\n",
      "    (2, 4) :     0 :   0.0 :     1 : False : False : Binary\n",
      "    (3, 1) :     0 :   1.0 :     1 : False : False : Binary\n",
      "    (3, 2) :     0 :   0.0 :     1 : False : False : Binary\n",
      "    (3, 3) :     0 :   0.0 :     1 : False : False : Binary\n",
      "    (3, 4) :     0 :   0.0 :     1 : False : False : Binary\n",
      "    (4, 1) :     0 :   0.0 :     1 : False : False : Binary\n",
      "    (4, 2) :     0 :   1.0 :     1 : False : False : Binary\n",
      "    (4, 3) :     0 :   0.0 :     1 : False : False : Binary\n",
      "    (4, 4) :     0 :   0.0 :     1 : False : False : Binary\n",
      "    (5, 1) :     0 :   1.0 :     1 : False : False : Binary\n",
      "    (5, 2) :     0 :   0.0 :     1 : False : False : Binary\n",
      "    (5, 3) :     0 :   0.0 :     1 : False : False : Binary\n",
      "    (5, 4) :     0 :   0.0 :     1 : False : False : Binary\n",
      "    (6, 1) :     0 :   0.0 :     1 : False : False : Binary\n",
      "    (6, 2) :     0 :   1.0 :     1 : False : False : Binary\n",
      "    (6, 3) :     0 :   0.0 :     1 : False : False : Binary\n",
      "    (6, 4) :     0 :   0.0 :     1 : False : False : Binary\n"
     ]
    }
   ],
   "source": [
    "instancia.x.pprint()"
   ]
  },
  {
   "cell_type": "code",
   "execution_count": null,
   "metadata": {},
   "outputs": [],
   "source": []
  }
 ],
 "metadata": {
  "kernelspec": {
   "display_name": "Python 3",
   "language": "python",
   "name": "python3"
  },
  "language_info": {
   "codemirror_mode": {
    "name": "ipython",
    "version": 3
   },
   "file_extension": ".py",
   "mimetype": "text/x-python",
   "name": "python",
   "nbconvert_exporter": "python",
   "pygments_lexer": "ipython3",
   "version": "3.8.5"
  }
 },
 "nbformat": 4,
 "nbformat_minor": 5
}
