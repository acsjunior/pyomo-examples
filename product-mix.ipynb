{
 "cells": [
  {
   "cell_type": "markdown",
   "id": "stupid-reality",
   "metadata": {},
   "source": [
    "## O problema do Mix de Produção\n",
    "\n",
    "Vamos utilizar o exemplo da página 26 do livro Pesquisa Operacional para Cursos de Engenharia (Belfiore e Fávero, 2013).\n",
    "\n",
    "A empresa Venix de brinquedos está revendo seu planejamento de produção de carrinhos e triciclos. O lucro líquido por unidade de carrinho e triciclo produzido é de $\\text{R\\$ } 12,00$ e $\\text{R\\$ } 60,00$, respectivamente. \n",
    "\n",
    "As matérias-primas e os insumos necessários para a fabricação de cada um dos produtos são terceirizados, cabendo à empresa os processos de usinagem, pintura e montagem. O processo de usinagem requer 15 minutos de mão de obra especializada por unidade de carrinho e 30 minutos por unidade de triciclo produzida. \n",
    "\n",
    "O processo de pintura requer 6 minutos de mão de obra especializada por unidade de carrinho e 45 minutos por unidade de triciclo produzida. \n",
    "\n",
    "Já o processo de montagem necessita de 6 minutos e 24 minutos para uma unidade de carrinho e de triciclo produzida, respectivamente. \n",
    "\n",
    "O tempo disponível por semana é de 36, 22 e 15 horas para os processos de usinagem, pintura e montagem, respectivamente. \n",
    "\n",
    "A empresa quer determinar quanto produzir de cada produto por semana, respeitando as limitações de recursos, de forma a **maximizar o lucro líquido semanal**."
   ]
  },
  {
   "cell_type": "markdown",
   "id": "silver-volunteer",
   "metadata": {},
   "source": [
    "## Formulação do modelo matemático\n",
    "\n",
    "### Variáveis de decisão\n",
    "\n",
    "$x_1 = \\text{quantidade de carrinhos a ser fabricada por semana}$\n",
    "\n",
    "$x_2 = \\text{quantidade de tricilos a ser fabricada por semana}$\n",
    "\n",
    "### Função objetivo\n",
    "\n",
    "$\\max z = 12x_1 + 60x_2$\n",
    "\n",
    "### Restrições\n",
    "\n",
    "\n",
    "#### Restrições de disponibilidade de mão de obra\n",
    "\n",
    "$0,25x_1 + 0,5x_2 \\leq 36$\n",
    "\n",
    "$0,1x_1 + 0,75x_2 \\leq 22$\n",
    "\n",
    "$0,1x_1 + 0,4x_2 \\leq 15$\n",
    "\n",
    "#### Restrições de não negatividade\n",
    "\n",
    "$x_1 \\geq 0$\n",
    "\n",
    "$x_2 \\geq 0$"
   ]
  },
  {
   "cell_type": "markdown",
   "id": "unlikely-benchmark",
   "metadata": {},
   "source": [
    "## Representação matricial\n",
    "\n",
    "### Função objetivo\n",
    "\n",
    "$\\max z = \\mathbf{c}^T\\mathbf{x}$\n",
    "\n",
    "### Restrições\n",
    "\n",
    "$\\mathbf{Ax} \\leq \\mathbf{b}$\n",
    "\n",
    "$\\mathbf{x} \\geq 0$"
   ]
  },
  {
   "cell_type": "markdown",
   "id": "official-third",
   "metadata": {},
   "source": [
    "## Representação genérica\n",
    "\n",
    "### Índices:\n",
    "\n",
    "$i = 1, \\ldots, m$\n",
    "\n",
    "$j = 1, \\ldots, n$\n",
    "\n",
    "### Parâmetros:\n",
    "\n",
    "$c_j = \\text{lucro líquido por unidade do produto } j \\text{ produzido}$\n",
    "\n",
    "$a_{ij} = \\text{quantidade de horas necessárias para a execução do processo } i \\text{ na fabricação do produto } j$\n",
    "\n",
    "$b_i = \\text{quantidade de horas disponíveis para execução do processo } i$\n",
    "\n",
    "### Variáveis de decisão:\n",
    "\n",
    "$x_j = \\text{quantidade a ser fabricada do produto } j \\text{ por semana}$\n",
    "\n",
    "### Modelo matemático:\n",
    "\n",
    "$\\text{max }z = \\sum\\limits_{j=1}^{n} c_j x_{j}$\n",
    "\n",
    "sujeito a:\n",
    "\n",
    "$\\sum\\limits_{j=1}^{n} a_{ij} x_{j} \\leq b_{i}, \\forall \\; i$\n",
    "\n",
    "$x_{j} \\geq 0$"
   ]
  },
  {
   "cell_type": "markdown",
   "id": "connected-journalist",
   "metadata": {},
   "source": [
    "## Modelo computacional"
   ]
  },
  {
   "cell_type": "code",
   "execution_count": 1,
   "id": "similar-transmission",
   "metadata": {},
   "outputs": [],
   "source": [
    "c = [12,60]\n",
    "\n",
    "a = [[0.25, 0.5], \n",
    "     [0.1, 0.75], \n",
    "     [0.1, 0.4]]\n",
    "\n",
    "b = [36, 22, 15]"
   ]
  },
  {
   "cell_type": "code",
   "execution_count": 2,
   "id": "published-insertion",
   "metadata": {},
   "outputs": [],
   "source": [
    "import pyomo.environ as pyo"
   ]
  },
  {
   "cell_type": "code",
   "execution_count": 3,
   "id": "elder-matter",
   "metadata": {},
   "outputs": [],
   "source": [
    "modelo = pyo.ConcreteModel()"
   ]
  },
  {
   "cell_type": "code",
   "execution_count": 4,
   "id": "aquatic-animal",
   "metadata": {},
   "outputs": [],
   "source": [
    "modelo.m = range(len(a))\n",
    "modelo.n = range(len(a[0][:]))"
   ]
  },
  {
   "cell_type": "code",
   "execution_count": 5,
   "id": "eleven-native",
   "metadata": {},
   "outputs": [],
   "source": [
    "modelo.c = pyo.Param(modelo.n, initialize=lambda modelo, j: c[j])\n",
    "modelo.a = pyo.Param(modelo.m, modelo.n, initialize=lambda modelo, i, j: a[i][j])\n",
    "modelo.b = pyo.Param(modelo.m, initialize=lambda modelo, i: b[i])"
   ]
  },
  {
   "cell_type": "code",
   "execution_count": 6,
   "id": "laughing-building",
   "metadata": {},
   "outputs": [],
   "source": [
    "modelo.x = pyo.Var(modelo.n, within=pyo.NonNegativeReals)"
   ]
  },
  {
   "cell_type": "code",
   "execution_count": 7,
   "id": "horizontal-communication",
   "metadata": {},
   "outputs": [],
   "source": [
    "def f_obj(modelo):\n",
    "    return pyo.summation(modelo.c, modelo.x)\n",
    "\n",
    "modelo.z = pyo.Objective(rule=f_obj, sense=pyo.maximize)"
   ]
  },
  {
   "cell_type": "code",
   "execution_count": 8,
   "id": "dress-gasoline",
   "metadata": {},
   "outputs": [],
   "source": [
    "def f_constr(modelo, i):\n",
    "    return sum(modelo.a[i,j] * modelo.x[j] for j in modelo.n) <= modelo.b[i]\n",
    "\n",
    "modelo.restr_horas = pyo.Constraint(modelo.m, rule=f_constr)"
   ]
  },
  {
   "cell_type": "code",
   "execution_count": 9,
   "id": "dynamic-midwest",
   "metadata": {},
   "outputs": [
    {
     "name": "stdout",
     "output_type": "stream",
     "text": [
      "Academic license - for non-commercial use only - expires 2021-06-07\n",
      "Using license file /Users/acsjunior/gurobi.lic\n"
     ]
    }
   ],
   "source": [
    "resultado = pyo.SolverFactory('gurobi', solver_io=\"python\").solve(modelo)"
   ]
  },
  {
   "cell_type": "code",
   "execution_count": 10,
   "id": "pressing-speed",
   "metadata": {},
   "outputs": [
    {
     "name": "stdout",
     "output_type": "stream",
     "text": [
      "x1 = 70.0\n",
      "x2 = 20.0\n"
     ]
    }
   ],
   "source": [
    "l = list(modelo.x.keys())\n",
    "for i in l:\n",
    "    print(\"x\" + str(i+1),'=', modelo.x[i]())"
   ]
  },
  {
   "cell_type": "code",
   "execution_count": 11,
   "id": "featured-midwest",
   "metadata": {},
   "outputs": [
    {
     "data": {
      "text/plain": [
       "2040.0"
      ]
     },
     "execution_count": 11,
     "metadata": {},
     "output_type": "execute_result"
    }
   ],
   "source": [
    "modelo.z()"
   ]
  },
  {
   "cell_type": "code",
   "execution_count": null,
   "id": "convenient-address",
   "metadata": {},
   "outputs": [],
   "source": []
  }
 ],
 "metadata": {
  "kernelspec": {
   "display_name": "Python 3",
   "language": "python",
   "name": "python3"
  },
  "language_info": {
   "codemirror_mode": {
    "name": "ipython",
    "version": 3
   },
   "file_extension": ".py",
   "mimetype": "text/x-python",
   "name": "python",
   "nbconvert_exporter": "python",
   "pygments_lexer": "ipython3",
   "version": "3.7.10"
  }
 },
 "nbformat": 4,
 "nbformat_minor": 5
}
