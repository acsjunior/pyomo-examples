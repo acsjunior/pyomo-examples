{
 "cells": [
  {
   "cell_type": "markdown",
   "id": "abstract-google",
   "metadata": {},
   "source": [
    "(Belfiore e Fávero) A empresa Venix de brinquedos está revendo seu planejamento de produção de carrinhos e triciclos. O lucro líquido por unidade de carrinho e triciclo produzido é de $\\text{R\\$}12,00$ e $\\text{R\\$}60,00$, respectivamente. As matérias primas e os insumos necessários para a fabricação de cada um dos produtos são terceirizados, cabendo à empresa os processos de usinagem, pintura e montagem. O processo de usinagem requer 15 minutos de mão de obra especializada por unidade de carrinho e 30 minutos por unidade de triciclo produzida. O processo de pintura requer 6 minutos de mão de obra especializada por unidade de carrinho e 45 minutos por unidade de triciclo produzida. Já o processo de montagem necessita de 6 minutos e 24 minutos para uma unidade de carrinho e de triciclo produzida, respectivamente. O tempo disponível por semana é de 36,\n",
    "22 e 15 horas para os processos de usinagem, pintura e montagem, respectivamente. A empresa quer determinar\n",
    "quanto produzir de cada produto por semana, respeitando as limitações de recursos, de forma a maximizar o lucro\n",
    "líquido semanal. Formular o problema de programação linear que maximiza o lucro líquido da empresa Venix.\n",
    "\n",
    "\n",
    "\n",
    "|  | carrinho | triciclo |\n",
    "|:--- |:---:|:---:|\n",
    "| <b>Lucro (R$)</b> | 12 | 60 |\n",
    "\n",
    "\n",
    "|  | carrinho | triciclo | disponib. (h) |\n",
    "|:--- |:---:|:---:|:---:|\n",
    "| <b>Usinagem</b> | 0,25 | 0,5 | 36 |\n",
    "| <b>Pintura</b> | 0,1 | 0,75 | 22 |\n",
    "| <b>Montagem</b> | 0,1 | 0,4 | 15 |\n"
   ]
  },
  {
   "cell_type": "markdown",
   "id": "charming-norway",
   "metadata": {},
   "source": [
    "## Variáveis de decisão\n",
    "\n",
    "$x_1 \\colon \\text{quantidade de carrinhos a serem produzidos por semana}$\n",
    "\n",
    "$x_2 \\colon \\text{quantidade de triciclos a serem produzidos por semana}$\n",
    "\n",
    "## Formulação matemática\n",
    "\n",
    "$\\text{max }z = 12x_1 + 60x_2$\n",
    "\n",
    "sujeito a\n",
    "\n",
    "1. O tempo total de mão de obra para a atividade de usinagem não pode ultrapassar 36h/ semana:\n",
    "\n",
    "$0,25x_1 + 0,5x_2 \\leq 36$ \n",
    "\n",
    "2. O tempo total de mão de obra para a atividade de pintura não pode ultrapassar 22h/ semana:\n",
    "\n",
    "$0,1x_1 + 0,75x_2 \\leq 22$\n",
    "\n",
    "3. O tempo total de mão de obra para a atividade de montagem não pode ultrapassar 15h/ semana:\n",
    "\n",
    "$0,1x_1 + 0,4x_2 \\leq 15$\n",
    "\n",
    "4. As quantidades de carrinhos e triciclos não podem ser negativas:\n",
    "\n",
    "$x_1, x_2 \\geq 0$"
   ]
  },
  {
   "cell_type": "code",
   "execution_count": 1,
   "id": "expensive-brunei",
   "metadata": {},
   "outputs": [],
   "source": [
    "from pyomo.environ import *"
   ]
  },
  {
   "cell_type": "code",
   "execution_count": 2,
   "id": "multiple-builder",
   "metadata": {},
   "outputs": [],
   "source": [
    "# Declaração do modelo:\n",
    "modelo = ConcreteModel()\n",
    "\n",
    "# Variáveis de decisão:\n",
    "modelo.x1 = Var(within=NonNegativeReals)\n",
    "modelo.x2 = Var(within=NonNegativeReals)\n",
    "\n",
    "# Função objetivo:\n",
    "modelo.z = Objective(expr=12*modelo.x1 + 60*modelo.x2, sense=maximize)\n",
    "\n",
    "# Restrições:\n",
    "modelo.restr_usinagem = Constraint(expr=0.25*modelo.x1 + 0.5*modelo.x2 <= 36)\n",
    "modelo.restr_pintura = Constraint(expr=0.1*modelo.x1 + 0.75*modelo.x2 <= 22)\n",
    "modelo.restr_montagem = Constraint(expr=0.1*modelo.x1 + 0.4*modelo.x2 <= 15)"
   ]
  },
  {
   "cell_type": "code",
   "execution_count": 3,
   "id": "close-baseball",
   "metadata": {},
   "outputs": [
    {
     "name": "stdout",
     "output_type": "stream",
     "text": [
      "WARNING: Could not locate the 'glpsol' executable, which is required for\n",
      "    solver 'glpk'\n"
     ]
    },
    {
     "ename": "ApplicationError",
     "evalue": "No executable found for solver 'glpk'",
     "output_type": "error",
     "traceback": [
      "\u001b[0;31m---------------------------------------------------------------------------\u001b[0m",
      "\u001b[0;31mApplicationError\u001b[0m                          Traceback (most recent call last)",
      "\u001b[0;32m<ipython-input-3-8f494b43aa3e>\u001b[0m in \u001b[0;36m<module>\u001b[0;34m\u001b[0m\n\u001b[1;32m      1\u001b[0m \u001b[0;31m# Executa a instância:\u001b[0m\u001b[0;34m\u001b[0m\u001b[0;34m\u001b[0m\u001b[0;34m\u001b[0m\u001b[0m\n\u001b[0;32m----> 2\u001b[0;31m \u001b[0mresultado\u001b[0m \u001b[0;34m=\u001b[0m \u001b[0mSolverFactory\u001b[0m\u001b[0;34m(\u001b[0m\u001b[0;34m'glpk'\u001b[0m\u001b[0;34m)\u001b[0m\u001b[0;34m.\u001b[0m\u001b[0msolve\u001b[0m\u001b[0;34m(\u001b[0m\u001b[0mmodelo\u001b[0m\u001b[0;34m)\u001b[0m\u001b[0;34m\u001b[0m\u001b[0;34m\u001b[0m\u001b[0m\n\u001b[0m",
      "\u001b[0;32m/opt/anaconda3/envs/pyomo-lessons/lib/python3.8/site-packages/pyomo/opt/base/solvers.py\u001b[0m in \u001b[0;36msolve\u001b[0;34m(self, *args, **kwds)\u001b[0m\n\u001b[1;32m    514\u001b[0m         \u001b[0;34m\"\"\" Solve the problem \"\"\"\u001b[0m\u001b[0;34m\u001b[0m\u001b[0;34m\u001b[0m\u001b[0m\n\u001b[1;32m    515\u001b[0m \u001b[0;34m\u001b[0m\u001b[0m\n\u001b[0;32m--> 516\u001b[0;31m         \u001b[0mself\u001b[0m\u001b[0;34m.\u001b[0m\u001b[0mavailable\u001b[0m\u001b[0;34m(\u001b[0m\u001b[0mexception_flag\u001b[0m\u001b[0;34m=\u001b[0m\u001b[0;32mTrue\u001b[0m\u001b[0;34m)\u001b[0m\u001b[0;34m\u001b[0m\u001b[0;34m\u001b[0m\u001b[0m\n\u001b[0m\u001b[1;32m    517\u001b[0m         \u001b[0;31m#\u001b[0m\u001b[0;34m\u001b[0m\u001b[0;34m\u001b[0m\u001b[0;34m\u001b[0m\u001b[0m\n\u001b[1;32m    518\u001b[0m         \u001b[0;31m# If the inputs are models, then validate that they have been\u001b[0m\u001b[0;34m\u001b[0m\u001b[0;34m\u001b[0m\u001b[0;34m\u001b[0m\u001b[0m\n",
      "\u001b[0;32m/opt/anaconda3/envs/pyomo-lessons/lib/python3.8/site-packages/pyomo/opt/solver/shellcmd.py\u001b[0m in \u001b[0;36mavailable\u001b[0;34m(self, exception_flag)\u001b[0m\n\u001b[1;32m    116\u001b[0m             \u001b[0;32mif\u001b[0m \u001b[0mexception_flag\u001b[0m\u001b[0;34m:\u001b[0m\u001b[0;34m\u001b[0m\u001b[0;34m\u001b[0m\u001b[0m\n\u001b[1;32m    117\u001b[0m                 \u001b[0mmsg\u001b[0m \u001b[0;34m=\u001b[0m \u001b[0;34m\"No executable found for solver '%s'\"\u001b[0m\u001b[0;34m\u001b[0m\u001b[0;34m\u001b[0m\u001b[0m\n\u001b[0;32m--> 118\u001b[0;31m                 \u001b[0;32mraise\u001b[0m \u001b[0mApplicationError\u001b[0m\u001b[0;34m(\u001b[0m\u001b[0mmsg\u001b[0m \u001b[0;34m%\u001b[0m \u001b[0mself\u001b[0m\u001b[0;34m.\u001b[0m\u001b[0mname\u001b[0m\u001b[0;34m)\u001b[0m\u001b[0;34m\u001b[0m\u001b[0;34m\u001b[0m\u001b[0m\n\u001b[0m\u001b[1;32m    119\u001b[0m             \u001b[0;32mreturn\u001b[0m \u001b[0;32mFalse\u001b[0m\u001b[0;34m\u001b[0m\u001b[0;34m\u001b[0m\u001b[0m\n\u001b[1;32m    120\u001b[0m         \u001b[0;32mreturn\u001b[0m \u001b[0;32mTrue\u001b[0m\u001b[0;34m\u001b[0m\u001b[0;34m\u001b[0m\u001b[0m\n",
      "\u001b[0;31mApplicationError\u001b[0m: No executable found for solver 'glpk'"
     ]
    }
   ],
   "source": [
    "# Executa a instância:\n",
    "resultado = SolverFactory('glpk').solve(modelo)"
   ]
  },
  {
   "cell_type": "code",
   "execution_count": null,
   "id": "incoming-convertible",
   "metadata": {},
   "outputs": [],
   "source": [
    "resultado.write()"
   ]
  },
  {
   "cell_type": "code",
   "execution_count": null,
   "id": "wireless-opportunity",
   "metadata": {},
   "outputs": [],
   "source": [
    "modelo.x1()"
   ]
  },
  {
   "cell_type": "code",
   "execution_count": null,
   "id": "noted-moment",
   "metadata": {},
   "outputs": [],
   "source": [
    "modelo.x2()"
   ]
  },
  {
   "cell_type": "code",
   "execution_count": null,
   "id": "detected-industry",
   "metadata": {},
   "outputs": [],
   "source": [
    "modelo.z()"
   ]
  },
  {
   "cell_type": "markdown",
   "id": "weird-fifty",
   "metadata": {},
   "source": [
    "## Representação matricial"
   ]
  },
  {
   "cell_type": "markdown",
   "id": "important-karen",
   "metadata": {},
   "source": [
    "### Função objetivo\n",
    "\n",
    "$\\max z = \\mathbf{c}^T\\mathbf{x}$\n",
    "\n",
    "### Restrições\n",
    "\n",
    "$\\mathbf{Ax} \\leq \\mathbf{b}$\n",
    "\n",
    "$\\mathbf{x} \\geq \\mathbf{0}$"
   ]
  },
  {
   "cell_type": "markdown",
   "id": "successful-simple",
   "metadata": {},
   "source": []
  },
  {
   "cell_type": "code",
   "execution_count": null,
   "id": "general-territory",
   "metadata": {},
   "outputs": [],
   "source": [
    "conda install -c conda-forge ipopt glpk"
   ]
  },
  {
   "cell_type": "code",
   "execution_count": null,
   "id": "8deff1ac",
   "metadata": {},
   "outputs": [],
   "source": [
    "conda update -n base conda"
   ]
  },
  {
   "cell_type": "code",
   "execution_count": null,
   "id": "a4a40d5a",
   "metadata": {},
   "outputs": [],
   "source": [
    "conda uninstall glpk"
   ]
  },
  {
   "cell_type": "code",
   "execution_count": null,
   "id": "3543abe8",
   "metadata": {},
   "outputs": [],
   "source": []
  }
 ],
 "metadata": {
  "kernelspec": {
   "display_name": "Python 3",
   "language": "python",
   "name": "python3"
  },
  "language_info": {
   "codemirror_mode": {
    "name": "ipython",
    "version": 3
   },
   "file_extension": ".py",
   "mimetype": "text/x-python",
   "name": "python",
   "nbconvert_exporter": "python",
   "pygments_lexer": "ipython3",
   "version": "3.8.10"
  }
 },
 "nbformat": 4,
 "nbformat_minor": 5
}
